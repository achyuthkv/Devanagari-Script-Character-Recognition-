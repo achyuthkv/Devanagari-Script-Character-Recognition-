{
 "cells": [
  {
   "cell_type": "code",
   "execution_count": 2,
   "metadata": {},
   "outputs": [],
   "source": [
    "import tensorflow as tf #import tensorflo\n",
    "import matplotlib.pyplot as plt"
   ]
  },
  {
   "cell_type": "code",
   "execution_count": 3,
   "metadata": {},
   "outputs": [],
   "source": [
    "import numpy as np\n",
    "import os\n",
    "import random"
   ]
  },
  {
   "cell_type": "code",
   "execution_count": 5,
   "metadata": {},
   "outputs": [
    {
     "name": "stderr",
     "output_type": "stream",
     "text": [
      "Using TensorFlow backend.\n"
     ]
    }
   ],
   "source": [
    "\n",
    "import matplotlib.image as mpimage\n",
    "from PIL import Image\n",
    "\n",
    "import keras.utils.np_utils"
   ]
  },
  {
   "cell_type": "code",
   "execution_count": 14,
   "metadata": {},
   "outputs": [
    {
     "name": "stdout",
     "output_type": "stream",
     "text": [
      "Size of the image matrix =  62668800\n"
     ]
    }
   ],
   "source": [
    "path = \"./Sample/Train_Full_Data/\"\n",
    "folders = os.listdir(path)\n",
    "imageList=[]\n",
    "imageMatrix = []\n",
    "newIm = []\n",
    "labels=[]\n",
    "# Get list of folders in current path\n",
    "for folder in folders:\n",
    "    newPath = path + folder  #Create new path by adding folder name\n",
    "    folderName = os.path.split(os.path.abspath(newPath))[1]\n",
    "    characterName = folderName.split(\"_\")[2]\n",
    "    imageList=[f for f in os.listdir(newPath) if os.path.splitext(f)[-1] == '.png'] #Check if PNG files only then add\n",
    "    for image in imageList:   #Traverse the list of files and add each file name to the imageFile\n",
    "        im = Image.open(newPath+\"//\"+image)\n",
    "        labels.append(characterName)\n",
    "        imageArray = np.asarray(im.getdata())\n",
    "        flattenedImageArray = imageArray.flatten()\n",
    "        imageMatrix.append(flattenedImageArray)\n",
    "print(\"Size of the image matrix = \",np.size(imageMatrix))"
   ]
  },
  {
   "cell_type": "code",
   "execution_count": 15,
   "metadata": {},
   "outputs": [
    {
     "name": "stdout",
     "output_type": "stream",
     "text": [
      "(61200, 1024)\n"
     ]
    }
   ],
   "source": [
    "a = np.array(imageMatrix)\n",
    "a\n",
    "print(a.shape)"
   ]
  },
  {
   "cell_type": "code",
   "execution_count": 16,
   "metadata": {},
   "outputs": [],
   "source": [
    "import random\n",
    "from sklearn import preprocessing\n",
    "#The sklearn.preprocessing module includes scaling, centering, normalization, binarization and imputation methods."
   ]
  },
  {
   "cell_type": "code",
   "execution_count": 88,
   "metadata": {},
   "outputs": [
    {
     "name": "stdout",
     "output_type": "stream",
     "text": [
      "Features size =  (61200, 1024)\n",
      "Labels size =  (61200,)\n",
      "['waw' 'waw' 'waw' ... 'yaw' 'yaw' 'yaw']\n"
     ]
    }
   ],
   "source": [
    "n_samples = len(a)\n",
    "X = a.reshape((n_samples,-1)) #features\n",
    "T = np.array(labels) #target\n",
    "print('Features size = ',X.shape)\n",
    "print('Labels size = ',T.shape)"
   ]
  },
  {
   "cell_type": "code",
   "execution_count": 87,
   "metadata": {},
   "outputs": [
    {
     "name": "stdout",
     "output_type": "stream",
     "text": [
      "[[0. 0. 0. ... 1. 0. 0.]\n",
      " [0. 0. 0. ... 1. 0. 0.]\n",
      " [0. 0. 0. ... 1. 0. 0.]\n",
      " ...\n",
      " [0. 0. 0. ... 0. 1. 0.]\n",
      " [0. 0. 0. ... 0. 1. 0.]\n",
      " [0. 0. 0. ... 0. 1. 0.]]\n"
     ]
    }
   ],
   "source": [
    "le=preprocessing.LabelEncoder() # to encode the value between 0 and 1\n",
    "le.fit(T) #we will fit target with label encoder\n",
    "T=le.transform(T) #transform will fit label encoder and return encoded values\n",
    "\n",
    "T=keras.utils.np_utils.to_categorical(T) \n",
    "#this line of code converts a class vector (integers) to binary class matrix.\n",
    "print(T)"
   ]
  },
  {
   "cell_type": "code",
   "execution_count": 22,
   "metadata": {},
   "outputs": [],
   "source": [
    "from sklearn.cross_validation import train_test_split\n",
    "#sklearn train test split to divide the data set into train and test for cross validation"
   ]
  },
  {
   "cell_type": "code",
   "execution_count": 23,
   "metadata": {},
   "outputs": [],
   "source": [
    "X_train, X_test, T_train, T_test = train_test_split(X, T, test_size=0.3, random_state=34)"
   ]
  },
  {
   "cell_type": "code",
   "execution_count": 24,
   "metadata": {},
   "outputs": [
    {
     "name": "stdout",
     "output_type": "stream",
     "text": [
      "Train size =  (42840, 1024)   (42840, 36)\n"
     ]
    }
   ],
   "source": [
    "print('Train size = ',X_train.shape,\" \",T_train.shape)"
   ]
  },
  {
   "cell_type": "code",
   "execution_count": 89,
   "metadata": {},
   "outputs": [
    {
     "name": "stdout",
     "output_type": "stream",
     "text": [
      "Train size =  (18360, 1024)   (18360, 36)\n"
     ]
    }
   ],
   "source": [
    "print('Train size = ',X_test.shape,\" \",T_test.shape)"
   ]
  },
  {
   "cell_type": "markdown",
   "metadata": {},
   "source": [
    "1) Now we train and test the data on the model using cross validation method. Training is done on 42840 samples and is validated with 18360 samples.\n",
    "\n",
    "2) I have used a simple model of a  convolution neural network \n",
    "3) We run the training model for 20 epochs."
   ]
  },
  {
   "cell_type": "code",
   "execution_count": 25,
   "metadata": {},
   "outputs": [],
   "source": [
    "import numpy as np\n",
    "import keras\n",
    "from keras import models, layers, losses, optimizers, metrics\n",
    "from keras.utils import to_categorical\n",
    "from sklearn.preprocessing import StandardScaler,LabelEncoder,OneHotEncoder\n",
    "import pandas as pd\n",
    "from sklearn.cross_validation import train_test_split\n",
    "import matplotlib.pyplot as plt\n",
    "%matplotlib inline\n",
    "from keras.layers import Dense, Conv2D, MaxPool2D, Flatten, Dropout\n",
    "from keras.models import Sequential\n"
   ]
  },
  {
   "cell_type": "code",
   "execution_count": 26,
   "metadata": {},
   "outputs": [],
   "source": [
    "img_height_rows = 32\n",
    "img_width_cols = 32"
   ]
  },
  {
   "cell_type": "code",
   "execution_count": 27,
   "metadata": {},
   "outputs": [
    {
     "name": "stdout",
     "output_type": "stream",
     "text": [
      "(32, 32, 1)\n"
     ]
    }
   ],
   "source": [
    "im_shape = (img_height_rows, img_width_cols, 1)\n",
    "print(im_shape)\n",
    "x_train = X_train.reshape(X_train.shape[0], *im_shape) # Python TIP :the * operator unpacks the tuple\n",
    "x_test = X_test.reshape(X_test.shape[0], *im_shape)"
   ]
  },
  {
   "cell_type": "code",
   "execution_count": 28,
   "metadata": {},
   "outputs": [],
   "source": [
    "cnn = Sequential()\n",
    "\n",
    "kernelSize = (3, 3)\n",
    "ip_activation = 'relu' #at input layer relu activation function is choosen\n",
    "#\n",
    "ip_conv_0 = Conv2D(filters=4, kernel_size=kernelSize, input_shape=im_shape, activation=ip_activation)\n",
    "cnn.add(ip_conv_0)"
   ]
  },
  {
   "cell_type": "code",
   "execution_count": 29,
   "metadata": {},
   "outputs": [],
   "source": [
    "ip_conv_0_1 = Conv2D(filters=4, kernel_size=kernelSize, activation=ip_activation)\n",
    "cnn.add(ip_conv_0_1)\n",
    "\n",
    "# Add the Pooling layer\n",
    "pool_0 = MaxPool2D(pool_size=(2, 2), strides=(2, 2), padding=\"same\")\n",
    "cnn.add(pool_0)\n"
   ]
  },
  {
   "cell_type": "code",
   "execution_count": 30,
   "metadata": {},
   "outputs": [],
   "source": [
    "ip_conv_1 = Conv2D(filters=4, kernel_size=kernelSize, activation=ip_activation)\n",
    "cnn.add(ip_conv_1)\n",
    "ip_conv_1_1 = Conv2D(filters=4, kernel_size=kernelSize, activation=ip_activation)\n",
    "cnn.add(ip_conv_1_1)\n",
    "\n",
    "pool_1 = MaxPool2D(pool_size=(2, 2), strides=(2, 2), padding=\"same\")\n",
    "cnn.add(pool_1)"
   ]
  },
  {
   "cell_type": "code",
   "execution_count": 31,
   "metadata": {},
   "outputs": [],
   "source": [
    "flat_layer_0 = Flatten()\n",
    "cnn.add(Flatten())\n"
   ]
  },
  {
   "cell_type": "code",
   "execution_count": 32,
   "metadata": {},
   "outputs": [],
   "source": [
    "h_dense_0 = Dense(units=20, activation=ip_activation, kernel_initializer='uniform')\n",
    "cnn.add(h_dense_0)\n",
    "# Let's add one more before proceeding to the output layer\n",
    "h_dense_1 = Dense(units=1024, activation=ip_activation, kernel_initializer='uniform',name='dense11')\n",
    "cnn.add(h_dense_1)"
   ]
  },
  {
   "cell_type": "code",
   "execution_count": 33,
   "metadata": {},
   "outputs": [],
   "source": [
    "n_classes = 36\n",
    "op_activation = 'softmax'\n",
    "output_layer = Dense(units=n_classes, activation=op_activation, kernel_initializer='uniform')\n",
    "cnn.add(output_layer)\n"
   ]
  },
  {
   "cell_type": "code",
   "execution_count": 41,
   "metadata": {},
   "outputs": [],
   "source": [
    "\n",
    "\n",
    "opt = optimizers.Adagrad(lr=0.0001)\n",
    "loss = 'categorical_crossentropy'\n",
    "metrics = ['accuracy']\n",
    "# Compile the classifier using the configuration we want\n",
    "cnn.compile(optimizer=opt, loss=loss, metrics=metrics)\n",
    "\n"
   ]
  },
  {
   "cell_type": "markdown",
   "metadata": {},
   "source": [
    "We have divided our entire dataset into 200 batches and fed into our model(Artifical Neural Network) with validation split as 30% of the data. Verbose sets the threshold for what messages will be logged."
   ]
  },
  {
   "cell_type": "code",
   "execution_count": 44,
   "metadata": {},
   "outputs": [
    {
     "name": "stdout",
     "output_type": "stream",
     "text": [
      "Train on 42840 samples, validate on 18360 samples\n",
      "Epoch 1/5\n",
      "42840/42840 [==============================] - 22s 512us/step - loss: 0.4777 - acc: 0.8597 - val_loss: 0.5711 - val_acc: 0.8309\n",
      "Epoch 2/5\n",
      "42840/42840 [==============================] - 22s 509us/step - loss: 0.4773 - acc: 0.8607 - val_loss: 0.5708 - val_acc: 0.8310\n",
      "Epoch 3/5\n",
      "42840/42840 [==============================] - 22s 502us/step - loss: 0.4768 - acc: 0.8609 - val_loss: 0.5702 - val_acc: 0.8300\n",
      "Epoch 4/5\n",
      "42840/42840 [==============================] - 23s 538us/step - loss: 0.4763 - acc: 0.8609 - val_loss: 0.5712 - val_acc: 0.8304\n",
      "Epoch 5/5\n",
      "42840/42840 [==============================] - 21s 501us/step - loss: 0.4760 - acc: 0.8601 - val_loss: 0.5700 - val_acc: 0.8309\n"
     ]
    }
   ],
   "source": [
    "history = cnn.fit(x_train, T_train,\n",
    "                  batch_size=200, epochs=5,\n",
    "                  validation_data=(x_test, T_test))"
   ]
  },
  {
   "cell_type": "code",
   "execution_count": 45,
   "metadata": {},
   "outputs": [
    {
     "data": {
      "text/plain": [
       "[<matplotlib.lines.Line2D at 0x1a5a3d3780>]"
      ]
     },
     "execution_count": 45,
     "metadata": {},
     "output_type": "execute_result"
    },
    {
     "data": {
      "image/png": "[encoded data removed]",
      "text/plain": [
       "<Figure size 432x288 with 1 Axes>"
      ]
     },
     "metadata": {},
     "output_type": "display_data"
    }
   ],
   "source": [
    "plt.plot(history.epoch, history.history['loss'], 'g')\n",
    "plt.plot(history.epoch, history.history['val_loss'],'r')"
   ]
  },
  {
   "cell_type": "code",
   "execution_count": 72,
   "metadata": {},
   "outputs": [
    {
     "data": {
      "text/plain": [
       "[<matplotlib.lines.Line2D at 0x1a5b795a90>]"
      ]
     },
     "execution_count": 72,
     "metadata": {},
     "output_type": "execute_result"
    },
    {
     "data": {
      "image/png": "[encoded data removed]",
      "text/plain": [
       "<Figure size 432x288 with 1 Axes>"
      ]
     },
     "metadata": {},
     "output_type": "display_data"
    }
   ],
   "source": [
    "plt.plot(history.epoch, history.history['val_acc'], 'g')\n",
    "plt.plot(history.epoch, history.history['acc'],'r')"
   ]
  },
  {
   "cell_type": "code",
   "execution_count": 73,
   "metadata": {},
   "outputs": [
    {
     "name": "stdout",
     "output_type": "stream",
     "text": [
      "Accuracy: 83.09%\n"
     ]
    }
   ],
   "source": [
    "scores = cnn.evaluate(x_test, T_test, verbose=0)\n",
    "print(\"Accuracy: %.2f%%\" % (scores[1]*100))"
   ]
  },
  {
   "cell_type": "code",
   "execution_count": 90,
   "metadata": {},
   "outputs": [],
   "source": [
    "def genericClassifier(clfr, x_train_data, y_train_data, x_test_data, y_test_data, acc_str, matrix_header_str):\n",
    "    \"\"\"run chosen classifier and display results\"\"\"\n",
    "    start_time = time.time()\n",
    "    clfr.fit(x_train_data, y_train_data)\n",
    "    y_pred = clfr.predict(x_test_data)\n",
    "    print(\"Time taken for prediction = %f seconds\" % (time.time() - start_time))\n",
    "\n",
    "    print(acc_str.format(accuracy_score(y_test_data, y_pred) * 100))\n",
    "    acc=accuracy_score(y_test_data, y_pred) * 100\n",
    "    return y_pred,acc\n"
   ]
  },
  {
   "cell_type": "code",
   "execution_count": null,
   "metadata": {},
   "outputs": [
    {
     "name": "stdout",
     "output_type": "stream",
     "text": [
      "KNN Classifier starting ...\n"
     ]
    }
   ],
   "source": [
    "from sklearn.neighbors import KNeighborsClassifier\n",
    "import time\n",
    "print('KNN Classifier starting ...')\n",
    "partialDataKNNClassifier = KNeighborsClassifier()\n",
    "y_pred,knnacc=genericClassifier(partialDataKNNClassifier, X_train, T_train, X_test, T_test, \"CNN-KNN Accuracy: {0:0.1f}%\", \"SVM Confusion matrix\")"
   ]
  },
  {
   "cell_type": "code",
   "execution_count": null,
   "metadata": {},
   "outputs": [],
   "source": []
  }
 ],
 "metadata": {
  "kernelspec": {
   "display_name": "Python 3",
   "language": "python",
   "name": "python3"
  },
  "language_info": {
   "codemirror_mode": {
    "name": "ipython",
    "version": 3
   },
   "file_extension": ".py",
   "mimetype": "text/x-python",
   "name": "python",
   "nbconvert_exporter": "python",
   "pygments_lexer": "ipython3",
   "version": "3.6.5"
  }
 },
 "nbformat": 4,
 "nbformat_minor": 2
}
